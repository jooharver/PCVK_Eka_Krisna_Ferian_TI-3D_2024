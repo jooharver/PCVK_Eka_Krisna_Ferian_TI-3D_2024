{
  "nbformat": 4,
  "nbformat_minor": 0,
  "metadata": {
    "colab": {
      "provenance": [],
      "authorship_tag": "ABX9TyP/wvX8lGChNKMsr42aSB9l",
      "include_colab_link": true
    },
    "kernelspec": {
      "name": "python3",
      "display_name": "Python 3"
    },
    "language_info": {
      "name": "python"
    }
  },
  "cells": [
    {
      "cell_type": "markdown",
      "metadata": {
        "id": "view-in-github",
        "colab_type": "text"
      },
      "source": [
        "<a href=\"https://colab.research.google.com/github/jooharver/PCVK_Eka_Krisna_Ferian_TI-3D_2024/blob/main/Week2.ipynb\" target=\"_parent\"><img src=\"https://colab.research.google.com/assets/colab-badge.svg\" alt=\"Open In Colab\"/></a>"
      ]
    },
    {
      "cell_type": "code",
      "execution_count": null,
      "metadata": {
        "id": "3b16xqtbmbxx"
      },
      "outputs": [],
      "source": [
        "from google.colab import drive\n",
        "\n",
        "#accessing google drive\n",
        "drive.mount('/content/gdrive')\n",
        "\n",
        "import cv2 as cv\n",
        "from google.colab.patches import cv2_imshow\n",
        "from skimage import io\n",
        "import matplotlib.pyplot as plt\n",
        "import numpy as np\n",
        "\n",
        "img = cv.imread('/content/drive/MyDrive/PCVK/images/kitten.jpg')\n",
        "plt.imshow(img)\n",
        "\n",
        "\n"
      ]
    }
  ]
}